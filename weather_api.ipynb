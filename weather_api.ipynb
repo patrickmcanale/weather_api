{
 "cells": [
  {
   "cell_type": "code",
   "execution_count": 21,
   "id": "c04fe34e",
   "metadata": {},
   "outputs": [
    {
     "name": "stdout",
     "output_type": "stream",
     "text": [
      "{\"cod\":\"200\",\"city\":{\"id\":5391959,\"name\":\"San Francisco\",\"coord\":{\"lon\":-122.4192,\"lat\":37.7793},\"country\":\"US\"},\"message\":0.375545792,\"list\":[{\"dt\":1636588800,\"humidity\":74.73,\"pressure\":1017.87,\"temp\":{\"average\":285.85,\"average_max\":291.57,\"average_min\":282.21,\"record_max\":297.76,\"record_min\":277.41},\"wind_speed\":2.32},{\"dt\":1636675200,\"humidity\":68.88,\"pressure\":1018.78,\"temp\":{\"average\":285.93,\"average_max\":291.66,\"average_min\":281.78,\"record_max\":296.54,\"record_min\":277.27},\"wind_speed\":2.47},{\"dt\":1636761600,\"humidity\":74.66,\"pressure\":1021.4,\"temp\":{\"average\":285.76,\"average_max\":291.81,\"average_min\":281.79,\"record_max\":295.52,\"record_min\":278.15},\"wind_speed\":2.41},{\"dt\":1636848000,\"humidity\":76.81,\"pressure\":1021.99,\"temp\":{\"average\":285.64,\"average_max\":291.1,\"average_min\":281.46,\"record_max\":295.1,\"record_min\":276.93},\"wind_speed\":2.42},{\"dt\":1636934400,\"humidity\":72.03,\"pressure\":1019.71,\"temp\":{\"average\":285.9,\"average_max\":291.34,\"average_min\":282.47,\"record_max\":292.44,\"record_min\":276.59},\"wind_speed\":2.76},{\"dt\":1637020800,\"humidity\":71.73,\"pressure\":1017.51,\"temp\":{\"average\":285.78,\"average_max\":290.97,\"average_min\":282.27,\"record_max\":293.88,\"record_min\":276.98},\"wind_speed\":3.39},{\"dt\":1637107200,\"humidity\":71,\"pressure\":1017.06,\"temp\":{\"average\":285.73,\"average_max\":291.69,\"average_min\":281.56,\"record_max\":296.19,\"record_min\":276.28},\"wind_speed\":2.86},{\"dt\":1637193600,\"humidity\":74.74,\"pressure\":1016.93,\"temp\":{\"average\":285.35,\"average_max\":290.56,\"average_min\":281.32,\"record_max\":296.17,\"record_min\":276.79},\"wind_speed\":3.22},{\"dt\":1637280000,\"humidity\":77.79,\"pressure\":1017.57,\"temp\":{\"average\":285.62,\"average_max\":290.31,\"average_min\":282.23,\"record_max\":295.08,\"record_min\":276.59},\"wind_speed\":2.8},{\"dt\":1637366400,\"humidity\":74.67,\"pressure\":1016.51,\"temp\":{\"average\":286.35,\"average_max\":290.53,\"average_min\":283.58,\"record_max\":294.78,\"record_min\":277.61},\"wind_speed\":2.58},{\"dt\":1637452800,\"humidity\":75.55,\"pressure\":1016.46,\"temp\":{\"average\":286.26,\"average_max\":290.54,\"average_min\":283.09,\"record_max\":293.92,\"record_min\":280.48},\"wind_speed\":3.06},{\"dt\":1637539200,\"humidity\":70.94,\"pressure\":1018.61,\"temp\":{\"average\":286.42,\"average_max\":290.97,\"average_min\":282.88,\"record_max\":293.79,\"record_min\":278.64},\"wind_speed\":3.31},{\"dt\":1637625600,\"humidity\":73.08,\"pressure\":1020.17,\"temp\":{\"average\":285.76,\"average_max\":290.18,\"average_min\":282.16,\"record_max\":292.85,\"record_min\":279.83},\"wind_speed\":2.99},{\"dt\":1637712000,\"humidity\":77.3,\"pressure\":1021.29,\"temp\":{\"average\":284.94,\"average_max\":289.88,\"average_min\":281.4,\"record_max\":293.5,\"record_min\":276.43},\"wind_speed\":2.84},{\"dt\":1637798400,\"humidity\":75,\"pressure\":1021.69,\"temp\":{\"average\":284.3,\"average_max\":289.91,\"average_min\":280.6,\"record_max\":294.07,\"record_min\":277.13},\"wind_speed\":2.83},{\"dt\":1637884800,\"humidity\":74.12,\"pressure\":1021.22,\"temp\":{\"average\":284.43,\"average_max\":288.97,\"average_min\":281.26,\"record_max\":291.98,\"record_min\":276.79},\"wind_speed\":3.66},{\"dt\":1637971200,\"humidity\":71.84,\"pressure\":1017.5,\"temp\":{\"average\":284.39,\"average_max\":288.18,\"average_min\":281.34,\"record_max\":290.23,\"record_min\":279.33},\"wind_speed\":3.24},{\"dt\":1638057600,\"humidity\":73.53,\"pressure\":1015.96,\"temp\":{\"average\":283.79,\"average_max\":288.08,\"average_min\":280.78,\"record_max\":290.3,\"record_min\":276.56},\"wind_speed\":2.72},{\"dt\":1638144000,\"humidity\":76.53,\"pressure\":1014.08,\"temp\":{\"average\":284.22,\"average_max\":288.44,\"average_min\":280.84,\"record_max\":290.44,\"record_min\":275.01},\"wind_speed\":3.65},{\"dt\":1638230400,\"humidity\":78.02,\"pressure\":1016.84,\"temp\":{\"average\":283.69,\"average_max\":288.03,\"average_min\":280.54,\"record_max\":290.88,\"record_min\":275.72},\"wind_speed\":3.45},{\"dt\":1638316800,\"humidity\":80.41,\"pressure\":1017.75,\"temp\":{\"average\":284.53,\"average_max\":289.1,\"average_min\":281.24,\"record_max\":292.37,\"record_min\":277.19},\"wind_speed\":4.48},{\"dt\":1638403200,\"humidity\":76.28,\"pressure\":1017.41,\"temp\":{\"average\":284.7,\"average_max\":288.99,\"average_min\":281.87,\"record_max\":291.51,\"record_min\":277.23},\"wind_speed\":3.98},{\"dt\":1638489600,\"humidity\":78.02,\"pressure\":1017.49,\"temp\":{\"average\":285.04,\"average_max\":288.48,\"average_min\":282.33,\"record_max\":290.54,\"record_min\":278.14},\"wind_speed\":4.18},{\"dt\":1638576000,\"humidity\":72.26,\"pressure\":1018.84,\"temp\":{\"average\":283.88,\"average_max\":288.01,\"average_min\":280.67,\"record_max\":290.65,\"record_min\":275.45},\"wind_speed\":2.8},{\"dt\":1638662400,\"humidity\":71.45,\"pressure\":1020.06,\"temp\":{\"average\":283.99,\"average_max\":287.63,\"average_min\":281.16,\"record_max\":290.24,\"record_min\":272.3},\"wind_speed\":2.91},{\"dt\":1638748800,\"humidity\":75.13,\"pressure\":1020.71,\"temp\":{\"average\":284.15,\"average_max\":288,\"average_min\":281.76,\"record_max\":290.26,\"record_min\":274.56},\"wind_speed\":3.31},{\"dt\":1638835200,\"humidity\":74.47,\"pressure\":1020.47,\"temp\":{\"average\":284.58,\"average_max\":288.49,\"average_min\":281.66,\"record_max\":294.98,\"record_min\":275.87},\"wind_speed\":3.5},{\"dt\":1638921600,\"humidity\":77.13,\"pressure\":1022.33,\"temp\":{\"average\":283.75,\"average_max\":288.43,\"average_min\":280.5,\"record_max\":294.12,\"record_min\":273.56},\"wind_speed\":2.39},{\"dt\":1639008000,\"humidity\":75.73,\"pressure\":1020.99,\"temp\":{\"average\":284.13,\"average_max\":288.98,\"average_min\":280.92,\"record_max\":292.81,\"record_min\":273.72},\"wind_speed\":2.33},{\"dt\":1639094400,\"humidity\":75.86,\"pressure\":1020.5,\"temp\":{\"average\":284.53,\"average_max\":288.74,\"average_min\":281.59,\"record_max\":291.17,\"record_min\":273.41},\"wind_speed\":2.66}]}\n"
     ]
    }
   ],
   "source": [
    "import requests\n",
    "import json\n",
    "import pandas as pd\n",
    "from pandas.io.json import json_normalize\n",
    "\n",
    "\n",
    "\n",
    "url = \"https://community-open-weather-map.p.rapidapi.com/climate/month\"\n",
    "\n",
    "querystring = {\"q\":\"San Francisco\"}\n",
    "\n",
    "headers = {\n",
    "    'x-rapidapi-host': \"community-open-weather-map.p.rapidapi.com\",\n",
    "    'x-rapidapi-key': \"17b9c5146dmsh325ea9ab2b0383fp14ff7bjsn9f02a82a2d5b\"\n",
    "    }\n",
    "\n",
    "response = requests.request(\"GET\", url, headers=headers, params=querystring)\n",
    "\n",
    "print(response.text)"
   ]
  },
  {
   "cell_type": "code",
   "execution_count": 22,
   "id": "7fab6513",
   "metadata": {},
   "outputs": [],
   "source": [
    "data = response.json()"
   ]
  },
  {
   "cell_type": "code",
   "execution_count": 23,
   "id": "60339235",
   "metadata": {},
   "outputs": [
    {
     "name": "stdout",
     "output_type": "stream",
     "text": [
      "{'cod': '200', 'city': {'id': 5391959, 'name': 'San Francisco', 'coord': {'lon': -122.4192, 'lat': 37.7793}, 'country': 'US'}, 'message': 0.375545792, 'list': [{'dt': 1636588800, 'humidity': 74.73, 'pressure': 1017.87, 'temp': {'average': 285.85, 'average_max': 291.57, 'average_min': 282.21, 'record_max': 297.76, 'record_min': 277.41}, 'wind_speed': 2.32}, {'dt': 1636675200, 'humidity': 68.88, 'pressure': 1018.78, 'temp': {'average': 285.93, 'average_max': 291.66, 'average_min': 281.78, 'record_max': 296.54, 'record_min': 277.27}, 'wind_speed': 2.47}, {'dt': 1636761600, 'humidity': 74.66, 'pressure': 1021.4, 'temp': {'average': 285.76, 'average_max': 291.81, 'average_min': 281.79, 'record_max': 295.52, 'record_min': 278.15}, 'wind_speed': 2.41}, {'dt': 1636848000, 'humidity': 76.81, 'pressure': 1021.99, 'temp': {'average': 285.64, 'average_max': 291.1, 'average_min': 281.46, 'record_max': 295.1, 'record_min': 276.93}, 'wind_speed': 2.42}, {'dt': 1636934400, 'humidity': 72.03, 'pressure': 1019.71, 'temp': {'average': 285.9, 'average_max': 291.34, 'average_min': 282.47, 'record_max': 292.44, 'record_min': 276.59}, 'wind_speed': 2.76}, {'dt': 1637020800, 'humidity': 71.73, 'pressure': 1017.51, 'temp': {'average': 285.78, 'average_max': 290.97, 'average_min': 282.27, 'record_max': 293.88, 'record_min': 276.98}, 'wind_speed': 3.39}, {'dt': 1637107200, 'humidity': 71, 'pressure': 1017.06, 'temp': {'average': 285.73, 'average_max': 291.69, 'average_min': 281.56, 'record_max': 296.19, 'record_min': 276.28}, 'wind_speed': 2.86}, {'dt': 1637193600, 'humidity': 74.74, 'pressure': 1016.93, 'temp': {'average': 285.35, 'average_max': 290.56, 'average_min': 281.32, 'record_max': 296.17, 'record_min': 276.79}, 'wind_speed': 3.22}, {'dt': 1637280000, 'humidity': 77.79, 'pressure': 1017.57, 'temp': {'average': 285.62, 'average_max': 290.31, 'average_min': 282.23, 'record_max': 295.08, 'record_min': 276.59}, 'wind_speed': 2.8}, {'dt': 1637366400, 'humidity': 74.67, 'pressure': 1016.51, 'temp': {'average': 286.35, 'average_max': 290.53, 'average_min': 283.58, 'record_max': 294.78, 'record_min': 277.61}, 'wind_speed': 2.58}, {'dt': 1637452800, 'humidity': 75.55, 'pressure': 1016.46, 'temp': {'average': 286.26, 'average_max': 290.54, 'average_min': 283.09, 'record_max': 293.92, 'record_min': 280.48}, 'wind_speed': 3.06}, {'dt': 1637539200, 'humidity': 70.94, 'pressure': 1018.61, 'temp': {'average': 286.42, 'average_max': 290.97, 'average_min': 282.88, 'record_max': 293.79, 'record_min': 278.64}, 'wind_speed': 3.31}, {'dt': 1637625600, 'humidity': 73.08, 'pressure': 1020.17, 'temp': {'average': 285.76, 'average_max': 290.18, 'average_min': 282.16, 'record_max': 292.85, 'record_min': 279.83}, 'wind_speed': 2.99}, {'dt': 1637712000, 'humidity': 77.3, 'pressure': 1021.29, 'temp': {'average': 284.94, 'average_max': 289.88, 'average_min': 281.4, 'record_max': 293.5, 'record_min': 276.43}, 'wind_speed': 2.84}, {'dt': 1637798400, 'humidity': 75, 'pressure': 1021.69, 'temp': {'average': 284.3, 'average_max': 289.91, 'average_min': 280.6, 'record_max': 294.07, 'record_min': 277.13}, 'wind_speed': 2.83}, {'dt': 1637884800, 'humidity': 74.12, 'pressure': 1021.22, 'temp': {'average': 284.43, 'average_max': 288.97, 'average_min': 281.26, 'record_max': 291.98, 'record_min': 276.79}, 'wind_speed': 3.66}, {'dt': 1637971200, 'humidity': 71.84, 'pressure': 1017.5, 'temp': {'average': 284.39, 'average_max': 288.18, 'average_min': 281.34, 'record_max': 290.23, 'record_min': 279.33}, 'wind_speed': 3.24}, {'dt': 1638057600, 'humidity': 73.53, 'pressure': 1015.96, 'temp': {'average': 283.79, 'average_max': 288.08, 'average_min': 280.78, 'record_max': 290.3, 'record_min': 276.56}, 'wind_speed': 2.72}, {'dt': 1638144000, 'humidity': 76.53, 'pressure': 1014.08, 'temp': {'average': 284.22, 'average_max': 288.44, 'average_min': 280.84, 'record_max': 290.44, 'record_min': 275.01}, 'wind_speed': 3.65}, {'dt': 1638230400, 'humidity': 78.02, 'pressure': 1016.84, 'temp': {'average': 283.69, 'average_max': 288.03, 'average_min': 280.54, 'record_max': 290.88, 'record_min': 275.72}, 'wind_speed': 3.45}, {'dt': 1638316800, 'humidity': 80.41, 'pressure': 1017.75, 'temp': {'average': 284.53, 'average_max': 289.1, 'average_min': 281.24, 'record_max': 292.37, 'record_min': 277.19}, 'wind_speed': 4.48}, {'dt': 1638403200, 'humidity': 76.28, 'pressure': 1017.41, 'temp': {'average': 284.7, 'average_max': 288.99, 'average_min': 281.87, 'record_max': 291.51, 'record_min': 277.23}, 'wind_speed': 3.98}, {'dt': 1638489600, 'humidity': 78.02, 'pressure': 1017.49, 'temp': {'average': 285.04, 'average_max': 288.48, 'average_min': 282.33, 'record_max': 290.54, 'record_min': 278.14}, 'wind_speed': 4.18}, {'dt': 1638576000, 'humidity': 72.26, 'pressure': 1018.84, 'temp': {'average': 283.88, 'average_max': 288.01, 'average_min': 280.67, 'record_max': 290.65, 'record_min': 275.45}, 'wind_speed': 2.8}, {'dt': 1638662400, 'humidity': 71.45, 'pressure': 1020.06, 'temp': {'average': 283.99, 'average_max': 287.63, 'average_min': 281.16, 'record_max': 290.24, 'record_min': 272.3}, 'wind_speed': 2.91}, {'dt': 1638748800, 'humidity': 75.13, 'pressure': 1020.71, 'temp': {'average': 284.15, 'average_max': 288, 'average_min': 281.76, 'record_max': 290.26, 'record_min': 274.56}, 'wind_speed': 3.31}, {'dt': 1638835200, 'humidity': 74.47, 'pressure': 1020.47, 'temp': {'average': 284.58, 'average_max': 288.49, 'average_min': 281.66, 'record_max': 294.98, 'record_min': 275.87}, 'wind_speed': 3.5}, {'dt': 1638921600, 'humidity': 77.13, 'pressure': 1022.33, 'temp': {'average': 283.75, 'average_max': 288.43, 'average_min': 280.5, 'record_max': 294.12, 'record_min': 273.56}, 'wind_speed': 2.39}, {'dt': 1639008000, 'humidity': 75.73, 'pressure': 1020.99, 'temp': {'average': 284.13, 'average_max': 288.98, 'average_min': 280.92, 'record_max': 292.81, 'record_min': 273.72}, 'wind_speed': 2.33}, {'dt': 1639094400, 'humidity': 75.86, 'pressure': 1020.5, 'temp': {'average': 284.53, 'average_max': 288.74, 'average_min': 281.59, 'record_max': 291.17, 'record_min': 273.41}, 'wind_speed': 2.66}]}\n"
     ]
    }
   ],
   "source": [
    "print(data)"
   ]
  },
  {
   "cell_type": "code",
   "execution_count": 24,
   "id": "309dd898",
   "metadata": {},
   "outputs": [
    {
     "data": {
      "text/html": [
       "<div>\n",
       "<style scoped>\n",
       "    .dataframe tbody tr th:only-of-type {\n",
       "        vertical-align: middle;\n",
       "    }\n",
       "\n",
       "    .dataframe tbody tr th {\n",
       "        vertical-align: top;\n",
       "    }\n",
       "\n",
       "    .dataframe thead th {\n",
       "        text-align: right;\n",
       "    }\n",
       "</style>\n",
       "<table border=\"1\" class=\"dataframe\">\n",
       "  <thead>\n",
       "    <tr style=\"text-align: right;\">\n",
       "      <th></th>\n",
       "      <th>cod</th>\n",
       "      <th>message</th>\n",
       "      <th>list</th>\n",
       "      <th>city.id</th>\n",
       "      <th>city.name</th>\n",
       "      <th>city.coord.lon</th>\n",
       "      <th>city.coord.lat</th>\n",
       "      <th>city.country</th>\n",
       "    </tr>\n",
       "  </thead>\n",
       "  <tbody>\n",
       "    <tr>\n",
       "      <th>0</th>\n",
       "      <td>200</td>\n",
       "      <td>0.375546</td>\n",
       "      <td>[{'dt': 1636588800, 'humidity': 74.73, 'pressu...</td>\n",
       "      <td>5391959</td>\n",
       "      <td>San Francisco</td>\n",
       "      <td>-122.4192</td>\n",
       "      <td>37.7793</td>\n",
       "      <td>US</td>\n",
       "    </tr>\n",
       "  </tbody>\n",
       "</table>\n",
       "</div>"
      ],
      "text/plain": [
       "   cod   message                                               list  city.id  \\\n",
       "0  200  0.375546  [{'dt': 1636588800, 'humidity': 74.73, 'pressu...  5391959   \n",
       "\n",
       "       city.name  city.coord.lon  city.coord.lat city.country  \n",
       "0  San Francisco       -122.4192         37.7793           US  "
      ]
     },
     "execution_count": 24,
     "metadata": {},
     "output_type": "execute_result"
    }
   ],
   "source": [
    "df = pd.json_normalize(data)\n",
    "df.head()"
   ]
  },
  {
   "cell_type": "code",
   "execution_count": null,
   "id": "592b5947",
   "metadata": {},
   "outputs": [],
   "source": []
  }
 ],
 "metadata": {
  "kernelspec": {
   "display_name": "Python 3",
   "language": "python",
   "name": "python3"
  },
  "language_info": {
   "codemirror_mode": {
    "name": "ipython",
    "version": 3
   },
   "file_extension": ".py",
   "mimetype": "text/x-python",
   "name": "python",
   "nbconvert_exporter": "python",
   "pygments_lexer": "ipython3",
   "version": "3.8.8"
  }
 },
 "nbformat": 4,
 "nbformat_minor": 5
}
